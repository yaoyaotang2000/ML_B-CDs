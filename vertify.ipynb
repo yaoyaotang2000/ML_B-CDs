{
 "cells": [
  {
   "cell_type": "code",
   "execution_count": 1,
   "id": "41b86b60",
   "metadata": {},
   "outputs": [],
   "source": [
    "import pandas as pd\n",
    "import numpy as np"
   ]
  },
  {
   "cell_type": "code",
   "execution_count": 2,
   "id": "270c0b7b",
   "metadata": {},
   "outputs": [],
   "source": [
    "df=pd.read_excel(r\"C:\\Users\\yaoyao tang\\Jupyter\\ML_B_CDs\\carbon_dot.xlsx\")"
   ]
  },
  {
   "cell_type": "code",
   "execution_count": 3,
   "id": "50207944",
   "metadata": {},
   "outputs": [
    {
     "data": {
      "text/html": [
       "<div>\n",
       "<style scoped>\n",
       "    .dataframe tbody tr th:only-of-type {\n",
       "        vertical-align: middle;\n",
       "    }\n",
       "\n",
       "    .dataframe tbody tr th {\n",
       "        vertical-align: top;\n",
       "    }\n",
       "\n",
       "    .dataframe thead th {\n",
       "        text-align: right;\n",
       "    }\n",
       "</style>\n",
       "<table border=\"1\" class=\"dataframe\">\n",
       "  <thead>\n",
       "    <tr style=\"text-align: right;\">\n",
       "      <th></th>\n",
       "      <th>CA质量（g）</th>\n",
       "      <th>DEA体积（ml）</th>\n",
       "      <th>水体积（ml）</th>\n",
       "      <th>微波强度（低火18 解冻36 中火58 中高火81 高火100 ）</th>\n",
       "      <th>微波时间（min）</th>\n",
       "      <th>最佳激发</th>\n",
       "      <th>最佳发射</th>\n",
       "      <th>产率（%）</th>\n",
       "    </tr>\n",
       "  </thead>\n",
       "  <tbody>\n",
       "    <tr>\n",
       "      <th>0</th>\n",
       "      <td>1.0</td>\n",
       "      <td>0.50</td>\n",
       "      <td>20</td>\n",
       "      <td>36</td>\n",
       "      <td>4</td>\n",
       "      <td>380</td>\n",
       "      <td>480</td>\n",
       "      <td>1.660</td>\n",
       "    </tr>\n",
       "    <tr>\n",
       "      <th>1</th>\n",
       "      <td>1.0</td>\n",
       "      <td>0.55</td>\n",
       "      <td>20</td>\n",
       "      <td>36</td>\n",
       "      <td>4</td>\n",
       "      <td>320</td>\n",
       "      <td>408</td>\n",
       "      <td>0.762</td>\n",
       "    </tr>\n",
       "    <tr>\n",
       "      <th>2</th>\n",
       "      <td>1.0</td>\n",
       "      <td>0.60</td>\n",
       "      <td>20</td>\n",
       "      <td>36</td>\n",
       "      <td>4</td>\n",
       "      <td>320</td>\n",
       "      <td>408</td>\n",
       "      <td>0.434</td>\n",
       "    </tr>\n",
       "    <tr>\n",
       "      <th>3</th>\n",
       "      <td>1.0</td>\n",
       "      <td>0.65</td>\n",
       "      <td>20</td>\n",
       "      <td>36</td>\n",
       "      <td>4</td>\n",
       "      <td>320</td>\n",
       "      <td>408</td>\n",
       "      <td>0.923</td>\n",
       "    </tr>\n",
       "    <tr>\n",
       "      <th>4</th>\n",
       "      <td>1.0</td>\n",
       "      <td>0.70</td>\n",
       "      <td>20</td>\n",
       "      <td>36</td>\n",
       "      <td>4</td>\n",
       "      <td>320</td>\n",
       "      <td>408</td>\n",
       "      <td>1.500</td>\n",
       "    </tr>\n",
       "  </tbody>\n",
       "</table>\n",
       "</div>"
      ],
      "text/plain": [
       "   CA质量（g）  DEA体积（ml）  水体积（ml）  微波强度（低火18 解冻36 中火58 中高火81 高火100 ）  微波时间（min）  \\\n",
       "0      1.0       0.50       20                                 36          4   \n",
       "1      1.0       0.55       20                                 36          4   \n",
       "2      1.0       0.60       20                                 36          4   \n",
       "3      1.0       0.65       20                                 36          4   \n",
       "4      1.0       0.70       20                                 36          4   \n",
       "\n",
       "   最佳激发  最佳发射  产率（%）  \n",
       "0   380   480  1.660  \n",
       "1   320   408  0.762  \n",
       "2   320   408  0.434  \n",
       "3   320   408  0.923  \n",
       "4   320   408  1.500  "
      ]
     },
     "execution_count": 3,
     "metadata": {},
     "output_type": "execute_result"
    }
   ],
   "source": [
    "df.head()"
   ]
  },
  {
   "cell_type": "code",
   "execution_count": 4,
   "id": "ffe406c0",
   "metadata": {},
   "outputs": [],
   "source": [
    "#将dataframe数据转化为numpy\n",
    "df_value=df.values"
   ]
  },
  {
   "cell_type": "code",
   "execution_count": 5,
   "id": "dbeb32e1",
   "metadata": {},
   "outputs": [],
   "source": [
    "X=df_value[:,:-3]\n",
    "Y=df_value[:,-1]"
   ]
  },
  {
   "cell_type": "code",
   "execution_count": 6,
   "id": "48a48c47",
   "metadata": {},
   "outputs": [
    {
     "name": "stderr",
     "output_type": "stream",
     "text": [
      "C:\\Users\\yaoyao tang\\anaconda3\\lib\\site-packages\\xgboost\\compat.py:31: FutureWarning: pandas.Int64Index is deprecated and will be removed from pandas in a future version. Use pandas.Index with the appropriate dtype instead.\n",
      "  from pandas import MultiIndex, Int64Index\n"
     ]
    }
   ],
   "source": [
    "from xgboost import XGBRegressor\n",
    "xgb = XGBRegressor()"
   ]
  },
  {
   "cell_type": "code",
   "execution_count": 7,
   "id": "65b032d1",
   "metadata": {},
   "outputs": [],
   "source": [
    "from sklearn.metrics import mean_squared_error\n",
    "from sklearn.metrics import mean_absolute_error\n",
    "from sklearn.metrics import r2_score\n",
    "import math\n",
    "import numpy as np\n",
    "def evaluate(y_true,y_pred): \n",
    "    r2 = r2_score(y_true,y_pred)   \n",
    "    mse=mean_squared_error(y_true,y_pred)\n",
    "    rmse=math.sqrt(mse)\n",
    "    mae=mean_absolute_error(y_true,y_pred)\n",
    "    pr = np.corrcoef(y_true,y_pred)\n",
    "    return [rmse,mae,r2,pr[0][1]]"
   ]
  },
  {
   "cell_type": "code",
   "execution_count": 8,
   "id": "196201c9",
   "metadata": {},
   "outputs": [],
   "source": [
    "input_weibo_data=pd.read_csv(r\"C:\\Users\\yaoyao tang\\Jupyter\\ML_B_CDs\\input_weibo_dataset.csv\")"
   ]
  },
  {
   "cell_type": "code",
   "execution_count": 9,
   "id": "1315c68c",
   "metadata": {},
   "outputs": [],
   "source": [
    "y=pd.read_csv(r\"C:\\Users\\yaoyao tang\\Jupyter\\ML_B_CDs\\yy_pre_sake.csv\",header=None)"
   ]
  },
  {
   "cell_type": "code",
   "execution_count": 10,
   "id": "a279e7f0",
   "metadata": {},
   "outputs": [],
   "source": [
    "x_test=input_weibo_data.values\n",
    "y_test=y.values"
   ]
  },
  {
   "cell_type": "code",
   "execution_count": 11,
   "id": "4b290735",
   "metadata": {},
   "outputs": [
    {
     "name": "stdout",
     "output_type": "stream",
     "text": [
      "(3299,)\n"
     ]
    }
   ],
   "source": [
    "y_test=np.squeeze(y_test)\n",
    "print(y_test.shape)"
   ]
  },
  {
   "cell_type": "code",
   "execution_count": 12,
   "id": "ec39c4f5",
   "metadata": {
    "scrolled": true
   },
   "outputs": [
    {
     "name": "stdout",
     "output_type": "stream",
     "text": [
      "number= 0\n",
      "number= 1\n",
      "number= 2\n",
      "number= 3\n",
      "number= 4\n",
      "number= 5\n",
      "number= 6\n",
      "number= 7\n",
      "number= 8\n",
      "number= 9\n",
      "number= 10\n",
      "number= 11\n",
      "number= 12\n",
      "number= 13\n",
      "number= 14\n",
      "number= 15\n",
      "number= 16\n",
      "number= 17\n",
      "number= 18\n",
      "number= 19\n",
      "number= 20\n",
      "number= 21\n",
      "number= 22\n",
      "number= 23\n",
      "number= 24\n",
      "number= 25\n",
      "number= 26\n",
      "number= 27\n",
      "number= 28\n",
      "number= 29\n",
      "number= 30\n",
      "number= 31\n",
      "number= 32\n",
      "number= 33\n",
      "number= 34\n",
      "number= 35\n",
      "number= 36\n",
      "number= 37\n",
      "number= 38\n",
      "number= 39\n",
      "number= 40\n",
      "number= 41\n",
      "number= 42\n",
      "number= 43\n",
      "number= 44\n",
      "number= 45\n",
      "number= 46\n",
      "number= 47\n",
      "number= 48\n",
      "number= 49\n",
      "number= 50\n",
      "number= 51\n",
      "number= 52\n",
      "number= 53\n",
      "number= 54\n",
      "number= 55\n",
      "number= 56\n",
      "number= 57\n",
      "number= 58\n",
      "number= 59\n",
      "number= 60\n",
      "number= 61\n",
      "number= 62\n",
      "number= 63\n",
      "number= 64\n",
      "number= 65\n",
      "number= 66\n",
      "number= 67\n",
      "number= 68\n",
      "number= 69\n",
      "number= 70\n",
      "number= 71\n",
      "number= 72\n",
      "number= 73\n",
      "number= 74\n",
      "number= 75\n",
      "number= 76\n",
      "number= 77\n",
      "number= 78\n",
      "number= 79\n",
      "number= 80\n",
      "number= 81\n",
      "number= 82\n",
      "number= 83\n",
      "number= 84\n",
      "number= 85\n",
      "number= 86\n",
      "number= 87\n",
      "number= 88\n",
      "number= 89\n",
      "number= 90\n",
      "number= 91\n",
      "number= 92\n",
      "number= 93\n",
      "number= 94\n",
      "number= 95\n",
      "number= 96\n",
      "number= 97\n",
      "number= 98\n",
      "number= 99\n"
     ]
    }
   ],
   "source": [
    "import random\n",
    "rmse_result = []\n",
    "mae_result=[]\n",
    "r2_result=[]\n",
    "pr_result=[]\n",
    "for number in range(100):\n",
    "    print(\"number=\",number)\n",
    "    init_train_size = 100\n",
    "    totalSamp = X.shape[0]\n",
    "    \n",
    "    #all_ind_wo_max = list(range(0,totalSamp))\n",
    "    #all_ind_wo_max.remove(0)#去除0\n",
    "    j=0\n",
    "    batch=2\n",
    "\n",
    "    rmse=[]\n",
    "    mae=[]\n",
    "    r2=[]\n",
    "    pr=[]\n",
    "    while (j <= totalSamp-init_train_size):\n",
    "        all_ind = np.random.permutation(list(range(0,totalSamp)))#随机排序\n",
    "        #train_ind = random.sample(all_ind_wo_max, init_train_size)#返回一个列表，其中从序列中随机选择指定数量的项目。\n",
    "        #test_ind = [x for x in all_ind if x not in train_ind]\n",
    "        train_ind=all_ind[:init_train_size]\n",
    "        test_ind= all_ind[init_train_size:]\n",
    "        X_train = X[train_ind]\n",
    "        Y_train = Y[train_ind]\n",
    "        \n",
    "        \n",
    "\n",
    "        xgb.fit(X_train,Y_train)\n",
    "        y_pred = xgb.predict(x_test)\n",
    "        y_pred=np.squeeze(y_pred)\n",
    "        error= evaluate(y_test,y_pred)\n",
    "        rmse.append(error[0])\n",
    "        mae.append(error[1])\n",
    "        r2.append(error[2])\n",
    "        pr.append(error[3])\n",
    "        init_train_size=init_train_size+batch\n",
    "       \n",
    "    rmse_result.append(rmse)\n",
    "    mae_result.append(mae)\n",
    "    r2_result.append(r2)\n",
    "    pr_result.append(pr)\n",
    "    \n",
    "\n",
    "    \n",
    "    \n",
    "    "
   ]
  },
  {
   "cell_type": "code",
   "execution_count": 13,
   "id": "d51810bd",
   "metadata": {},
   "outputs": [],
   "source": [
    "rmse_result_np=np.array(rmse_result)\n",
    "mae_result_np=np.array(mae_result)\n",
    "r2_result_np=np.array(r2_result)\n",
    "pr_result_np=np.array(pr_result)"
   ]
  },
  {
   "cell_type": "code",
   "execution_count": 14,
   "id": "0ebffce3",
   "metadata": {},
   "outputs": [
    {
     "name": "stdout",
     "output_type": "stream",
     "text": [
      "(100, 46)\n"
     ]
    }
   ],
   "source": [
    "print(rmse_result_np.shape)"
   ]
  },
  {
   "cell_type": "code",
   "execution_count": 15,
   "id": "c2595433",
   "metadata": {},
   "outputs": [],
   "source": [
    "rmse_mean=rmse_result_np.mean(axis=0)\n",
    "mae_mean=mae_result_np.mean(axis=0)\n",
    "r2_mean=r2_result_np.mean(axis=0)\n",
    "pr_mean=pr_result_np.mean(axis=0)"
   ]
  },
  {
   "cell_type": "code",
   "execution_count": 16,
   "id": "e55bea8a",
   "metadata": {},
   "outputs": [],
   "source": [
    "with open(\"vertify_rmse.csv\", \"w\", newline='') as csvfile:\n",
    "    for i in rmse_mean:\n",
    "        csvfile.write(str(i))\n",
    "        csvfile.write('\\n')"
   ]
  },
  {
   "cell_type": "code",
   "execution_count": 17,
   "id": "58570e06",
   "metadata": {},
   "outputs": [],
   "source": [
    "with open(\"vertify_mae.csv\", \"w\", newline='') as csvfile:\n",
    "    for i in mae_mean:\n",
    "        csvfile.write(str(i))\n",
    "        csvfile.write('\\n')"
   ]
  },
  {
   "cell_type": "code",
   "execution_count": 18,
   "id": "321e3e1f",
   "metadata": {},
   "outputs": [],
   "source": [
    "with open(\"vertify_r2.csv\", \"w\", newline='') as csvfile:\n",
    "    for i in r2_mean:\n",
    "        csvfile.write(str(i))\n",
    "        csvfile.write('\\n')"
   ]
  },
  {
   "cell_type": "code",
   "execution_count": 19,
   "id": "bc887de7",
   "metadata": {},
   "outputs": [],
   "source": [
    "with open(\"vertify_pr.csv\", \"w\", newline='') as csvfile:\n",
    "    for i in pr_mean:\n",
    "        csvfile.write(str(i))\n",
    "        csvfile.write('\\n')"
   ]
  },
  {
   "cell_type": "code",
   "execution_count": null,
   "id": "bb0dc555",
   "metadata": {},
   "outputs": [],
   "source": []
  }
 ],
 "metadata": {
  "kernelspec": {
   "display_name": "Python 3 (ipykernel)",
   "language": "python",
   "name": "python3"
  },
  "language_info": {
   "codemirror_mode": {
    "name": "ipython",
    "version": 3
   },
   "file_extension": ".py",
   "mimetype": "text/x-python",
   "name": "python",
   "nbconvert_exporter": "python",
   "pygments_lexer": "ipython3",
   "version": "3.8.5"
  }
 },
 "nbformat": 4,
 "nbformat_minor": 5
}
